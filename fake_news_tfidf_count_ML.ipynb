{
 "cells": [
  {
   "cell_type": "code",
   "execution_count": 22,
   "id": "0205079e",
   "metadata": {},
   "outputs": [],
   "source": [
    "import nltk\n",
    "import numpy as np\n",
    "import pandas as pd\n",
    "import seaborn as sns\n",
    "from nltk.stem import PorterStemmer\n",
    "from nltk.corpus import stopwords\n",
    "from nltk.stem import WordNetLemmatizer"
   ]
  },
  {
   "cell_type": "code",
   "execution_count": 23,
   "id": "04d2c9fe",
   "metadata": {},
   "outputs": [],
   "source": [
    "train_data = pd.read_csv('train.csv')"
   ]
  },
  {
   "cell_type": "code",
   "execution_count": 24,
   "id": "3378f14c",
   "metadata": {},
   "outputs": [
    {
     "data": {
      "text/plain": [
       "(20800, 5)"
      ]
     },
     "execution_count": 24,
     "metadata": {},
     "output_type": "execute_result"
    }
   ],
   "source": [
    "train_data.shape"
   ]
  },
  {
   "cell_type": "code",
   "execution_count": 25,
   "id": "7d236d19",
   "metadata": {},
   "outputs": [
    {
     "data": {
      "text/html": [
       "<div>\n",
       "<style scoped>\n",
       "    .dataframe tbody tr th:only-of-type {\n",
       "        vertical-align: middle;\n",
       "    }\n",
       "\n",
       "    .dataframe tbody tr th {\n",
       "        vertical-align: top;\n",
       "    }\n",
       "\n",
       "    .dataframe thead th {\n",
       "        text-align: right;\n",
       "    }\n",
       "</style>\n",
       "<table border=\"1\" class=\"dataframe\">\n",
       "  <thead>\n",
       "    <tr style=\"text-align: right;\">\n",
       "      <th></th>\n",
       "      <th>id</th>\n",
       "      <th>title</th>\n",
       "      <th>author</th>\n",
       "      <th>text</th>\n",
       "      <th>label</th>\n",
       "    </tr>\n",
       "  </thead>\n",
       "  <tbody>\n",
       "    <tr>\n",
       "      <th>0</th>\n",
       "      <td>0</td>\n",
       "      <td>House Dem Aide: We Didn’t Even See Comey’s Let...</td>\n",
       "      <td>Darrell Lucus</td>\n",
       "      <td>House Dem Aide: We Didn’t Even See Comey’s Let...</td>\n",
       "      <td>1</td>\n",
       "    </tr>\n",
       "    <tr>\n",
       "      <th>1</th>\n",
       "      <td>1</td>\n",
       "      <td>FLYNN: Hillary Clinton, Big Woman on Campus - ...</td>\n",
       "      <td>Daniel J. Flynn</td>\n",
       "      <td>Ever get the feeling your life circles the rou...</td>\n",
       "      <td>0</td>\n",
       "    </tr>\n",
       "    <tr>\n",
       "      <th>2</th>\n",
       "      <td>2</td>\n",
       "      <td>Why the Truth Might Get You Fired</td>\n",
       "      <td>Consortiumnews.com</td>\n",
       "      <td>Why the Truth Might Get You Fired October 29, ...</td>\n",
       "      <td>1</td>\n",
       "    </tr>\n",
       "    <tr>\n",
       "      <th>3</th>\n",
       "      <td>3</td>\n",
       "      <td>15 Civilians Killed In Single US Airstrike Hav...</td>\n",
       "      <td>Jessica Purkiss</td>\n",
       "      <td>Videos 15 Civilians Killed In Single US Airstr...</td>\n",
       "      <td>1</td>\n",
       "    </tr>\n",
       "    <tr>\n",
       "      <th>4</th>\n",
       "      <td>4</td>\n",
       "      <td>Iranian woman jailed for fictional unpublished...</td>\n",
       "      <td>Howard Portnoy</td>\n",
       "      <td>Print \\nAn Iranian woman has been sentenced to...</td>\n",
       "      <td>1</td>\n",
       "    </tr>\n",
       "  </tbody>\n",
       "</table>\n",
       "</div>"
      ],
      "text/plain": [
       "   id                                              title              author  \\\n",
       "0   0  House Dem Aide: We Didn’t Even See Comey’s Let...       Darrell Lucus   \n",
       "1   1  FLYNN: Hillary Clinton, Big Woman on Campus - ...     Daniel J. Flynn   \n",
       "2   2                  Why the Truth Might Get You Fired  Consortiumnews.com   \n",
       "3   3  15 Civilians Killed In Single US Airstrike Hav...     Jessica Purkiss   \n",
       "4   4  Iranian woman jailed for fictional unpublished...      Howard Portnoy   \n",
       "\n",
       "                                                text  label  \n",
       "0  House Dem Aide: We Didn’t Even See Comey’s Let...      1  \n",
       "1  Ever get the feeling your life circles the rou...      0  \n",
       "2  Why the Truth Might Get You Fired October 29, ...      1  \n",
       "3  Videos 15 Civilians Killed In Single US Airstr...      1  \n",
       "4  Print \\nAn Iranian woman has been sentenced to...      1  "
      ]
     },
     "execution_count": 25,
     "metadata": {},
     "output_type": "execute_result"
    }
   ],
   "source": [
    "train_data.head()"
   ]
  },
  {
   "cell_type": "code",
   "execution_count": 26,
   "id": "66e8e886",
   "metadata": {},
   "outputs": [
    {
     "data": {
      "text/plain": [
       "id           0\n",
       "title      558\n",
       "author    1957\n",
       "text        39\n",
       "label        0\n",
       "dtype: int64"
      ]
     },
     "execution_count": 26,
     "metadata": {},
     "output_type": "execute_result"
    }
   ],
   "source": [
    "train_data.isnull().sum()"
   ]
  },
  {
   "cell_type": "code",
   "execution_count": 27,
   "id": "bb24ee35",
   "metadata": {},
   "outputs": [],
   "source": [
    "train_data.dropna(inplace=True)"
   ]
  },
  {
   "cell_type": "code",
   "execution_count": 28,
   "id": "c01a2da3",
   "metadata": {},
   "outputs": [
    {
     "data": {
      "text/plain": [
       "id        0\n",
       "title     0\n",
       "author    0\n",
       "text      0\n",
       "label     0\n",
       "dtype: int64"
      ]
     },
     "execution_count": 28,
     "metadata": {},
     "output_type": "execute_result"
    }
   ],
   "source": [
    "train_data.isnull().sum()"
   ]
  },
  {
   "cell_type": "code",
   "execution_count": 29,
   "id": "9c81cd20",
   "metadata": {},
   "outputs": [
    {
     "data": {
      "text/plain": [
       "(18285, 5)"
      ]
     },
     "execution_count": 29,
     "metadata": {},
     "output_type": "execute_result"
    }
   ],
   "source": [
    "train_data.shape"
   ]
  },
  {
   "cell_type": "code",
   "execution_count": 30,
   "id": "31c6f810",
   "metadata": {},
   "outputs": [
    {
     "data": {
      "text/html": [
       "<div>\n",
       "<style scoped>\n",
       "    .dataframe tbody tr th:only-of-type {\n",
       "        vertical-align: middle;\n",
       "    }\n",
       "\n",
       "    .dataframe tbody tr th {\n",
       "        vertical-align: top;\n",
       "    }\n",
       "\n",
       "    .dataframe thead th {\n",
       "        text-align: right;\n",
       "    }\n",
       "</style>\n",
       "<table border=\"1\" class=\"dataframe\">\n",
       "  <thead>\n",
       "    <tr style=\"text-align: right;\">\n",
       "      <th></th>\n",
       "      <th>id</th>\n",
       "      <th>title</th>\n",
       "      <th>author</th>\n",
       "      <th>text</th>\n",
       "      <th>label</th>\n",
       "    </tr>\n",
       "  </thead>\n",
       "  <tbody>\n",
       "    <tr>\n",
       "      <th>0</th>\n",
       "      <td>0</td>\n",
       "      <td>House Dem Aide: We Didn’t Even See Comey’s Let...</td>\n",
       "      <td>Darrell Lucus</td>\n",
       "      <td>House Dem Aide: We Didn’t Even See Comey’s Let...</td>\n",
       "      <td>1</td>\n",
       "    </tr>\n",
       "    <tr>\n",
       "      <th>1</th>\n",
       "      <td>1</td>\n",
       "      <td>FLYNN: Hillary Clinton, Big Woman on Campus - ...</td>\n",
       "      <td>Daniel J. Flynn</td>\n",
       "      <td>Ever get the feeling your life circles the rou...</td>\n",
       "      <td>0</td>\n",
       "    </tr>\n",
       "    <tr>\n",
       "      <th>2</th>\n",
       "      <td>2</td>\n",
       "      <td>Why the Truth Might Get You Fired</td>\n",
       "      <td>Consortiumnews.com</td>\n",
       "      <td>Why the Truth Might Get You Fired October 29, ...</td>\n",
       "      <td>1</td>\n",
       "    </tr>\n",
       "    <tr>\n",
       "      <th>3</th>\n",
       "      <td>3</td>\n",
       "      <td>15 Civilians Killed In Single US Airstrike Hav...</td>\n",
       "      <td>Jessica Purkiss</td>\n",
       "      <td>Videos 15 Civilians Killed In Single US Airstr...</td>\n",
       "      <td>1</td>\n",
       "    </tr>\n",
       "    <tr>\n",
       "      <th>4</th>\n",
       "      <td>4</td>\n",
       "      <td>Iranian woman jailed for fictional unpublished...</td>\n",
       "      <td>Howard Portnoy</td>\n",
       "      <td>Print \\nAn Iranian woman has been sentenced to...</td>\n",
       "      <td>1</td>\n",
       "    </tr>\n",
       "    <tr>\n",
       "      <th>5</th>\n",
       "      <td>5</td>\n",
       "      <td>Jackie Mason: Hollywood Would Love Trump if He...</td>\n",
       "      <td>Daniel Nussbaum</td>\n",
       "      <td>In these trying times, Jackie Mason is the Voi...</td>\n",
       "      <td>0</td>\n",
       "    </tr>\n",
       "    <tr>\n",
       "      <th>7</th>\n",
       "      <td>7</td>\n",
       "      <td>Benoît Hamon Wins French Socialist Party’s Pre...</td>\n",
       "      <td>Alissa J. Rubin</td>\n",
       "      <td>PARIS  —   France chose an idealistic, traditi...</td>\n",
       "      <td>0</td>\n",
       "    </tr>\n",
       "    <tr>\n",
       "      <th>9</th>\n",
       "      <td>9</td>\n",
       "      <td>A Back-Channel Plan for Ukraine and Russia, Co...</td>\n",
       "      <td>Megan Twohey and Scott Shane</td>\n",
       "      <td>A week before Michael T. Flynn resigned as nat...</td>\n",
       "      <td>0</td>\n",
       "    </tr>\n",
       "    <tr>\n",
       "      <th>10</th>\n",
       "      <td>10</td>\n",
       "      <td>Obama’s Organizing for Action Partners with So...</td>\n",
       "      <td>Aaron Klein</td>\n",
       "      <td>Organizing for Action, the activist group that...</td>\n",
       "      <td>0</td>\n",
       "    </tr>\n",
       "    <tr>\n",
       "      <th>11</th>\n",
       "      <td>11</td>\n",
       "      <td>BBC Comedy Sketch \"Real Housewives of ISIS\" Ca...</td>\n",
       "      <td>Chris Tomlinson</td>\n",
       "      <td>The BBC produced spoof on the “Real Housewives...</td>\n",
       "      <td>0</td>\n",
       "    </tr>\n",
       "  </tbody>\n",
       "</table>\n",
       "</div>"
      ],
      "text/plain": [
       "    id                                              title  \\\n",
       "0    0  House Dem Aide: We Didn’t Even See Comey’s Let...   \n",
       "1    1  FLYNN: Hillary Clinton, Big Woman on Campus - ...   \n",
       "2    2                  Why the Truth Might Get You Fired   \n",
       "3    3  15 Civilians Killed In Single US Airstrike Hav...   \n",
       "4    4  Iranian woman jailed for fictional unpublished...   \n",
       "5    5  Jackie Mason: Hollywood Would Love Trump if He...   \n",
       "7    7  Benoît Hamon Wins French Socialist Party’s Pre...   \n",
       "9    9  A Back-Channel Plan for Ukraine and Russia, Co...   \n",
       "10  10  Obama’s Organizing for Action Partners with So...   \n",
       "11  11  BBC Comedy Sketch \"Real Housewives of ISIS\" Ca...   \n",
       "\n",
       "                          author  \\\n",
       "0                  Darrell Lucus   \n",
       "1                Daniel J. Flynn   \n",
       "2             Consortiumnews.com   \n",
       "3                Jessica Purkiss   \n",
       "4                 Howard Portnoy   \n",
       "5                Daniel Nussbaum   \n",
       "7                Alissa J. Rubin   \n",
       "9   Megan Twohey and Scott Shane   \n",
       "10                   Aaron Klein   \n",
       "11               Chris Tomlinson   \n",
       "\n",
       "                                                 text  label  \n",
       "0   House Dem Aide: We Didn’t Even See Comey’s Let...      1  \n",
       "1   Ever get the feeling your life circles the rou...      0  \n",
       "2   Why the Truth Might Get You Fired October 29, ...      1  \n",
       "3   Videos 15 Civilians Killed In Single US Airstr...      1  \n",
       "4   Print \\nAn Iranian woman has been sentenced to...      1  \n",
       "5   In these trying times, Jackie Mason is the Voi...      0  \n",
       "7   PARIS  —   France chose an idealistic, traditi...      0  \n",
       "9   A week before Michael T. Flynn resigned as nat...      0  \n",
       "10  Organizing for Action, the activist group that...      0  \n",
       "11  The BBC produced spoof on the “Real Housewives...      0  "
      ]
     },
     "execution_count": 30,
     "metadata": {},
     "output_type": "execute_result"
    }
   ],
   "source": [
    "train_data.head(10)"
   ]
  },
  {
   "cell_type": "code",
   "execution_count": 31,
   "id": "0cd729a0",
   "metadata": {},
   "outputs": [],
   "source": [
    "data = train_data.reset_index(drop=True)"
   ]
  },
  {
   "cell_type": "code",
   "execution_count": 32,
   "id": "74bc9b33",
   "metadata": {},
   "outputs": [
    {
     "data": {
      "text/html": [
       "<div>\n",
       "<style scoped>\n",
       "    .dataframe tbody tr th:only-of-type {\n",
       "        vertical-align: middle;\n",
       "    }\n",
       "\n",
       "    .dataframe tbody tr th {\n",
       "        vertical-align: top;\n",
       "    }\n",
       "\n",
       "    .dataframe thead th {\n",
       "        text-align: right;\n",
       "    }\n",
       "</style>\n",
       "<table border=\"1\" class=\"dataframe\">\n",
       "  <thead>\n",
       "    <tr style=\"text-align: right;\">\n",
       "      <th></th>\n",
       "      <th>id</th>\n",
       "      <th>title</th>\n",
       "      <th>author</th>\n",
       "      <th>text</th>\n",
       "      <th>label</th>\n",
       "    </tr>\n",
       "  </thead>\n",
       "  <tbody>\n",
       "    <tr>\n",
       "      <th>0</th>\n",
       "      <td>0</td>\n",
       "      <td>House Dem Aide: We Didn’t Even See Comey’s Let...</td>\n",
       "      <td>Darrell Lucus</td>\n",
       "      <td>House Dem Aide: We Didn’t Even See Comey’s Let...</td>\n",
       "      <td>1</td>\n",
       "    </tr>\n",
       "    <tr>\n",
       "      <th>1</th>\n",
       "      <td>1</td>\n",
       "      <td>FLYNN: Hillary Clinton, Big Woman on Campus - ...</td>\n",
       "      <td>Daniel J. Flynn</td>\n",
       "      <td>Ever get the feeling your life circles the rou...</td>\n",
       "      <td>0</td>\n",
       "    </tr>\n",
       "    <tr>\n",
       "      <th>2</th>\n",
       "      <td>2</td>\n",
       "      <td>Why the Truth Might Get You Fired</td>\n",
       "      <td>Consortiumnews.com</td>\n",
       "      <td>Why the Truth Might Get You Fired October 29, ...</td>\n",
       "      <td>1</td>\n",
       "    </tr>\n",
       "    <tr>\n",
       "      <th>3</th>\n",
       "      <td>3</td>\n",
       "      <td>15 Civilians Killed In Single US Airstrike Hav...</td>\n",
       "      <td>Jessica Purkiss</td>\n",
       "      <td>Videos 15 Civilians Killed In Single US Airstr...</td>\n",
       "      <td>1</td>\n",
       "    </tr>\n",
       "    <tr>\n",
       "      <th>4</th>\n",
       "      <td>4</td>\n",
       "      <td>Iranian woman jailed for fictional unpublished...</td>\n",
       "      <td>Howard Portnoy</td>\n",
       "      <td>Print \\nAn Iranian woman has been sentenced to...</td>\n",
       "      <td>1</td>\n",
       "    </tr>\n",
       "    <tr>\n",
       "      <th>5</th>\n",
       "      <td>5</td>\n",
       "      <td>Jackie Mason: Hollywood Would Love Trump if He...</td>\n",
       "      <td>Daniel Nussbaum</td>\n",
       "      <td>In these trying times, Jackie Mason is the Voi...</td>\n",
       "      <td>0</td>\n",
       "    </tr>\n",
       "    <tr>\n",
       "      <th>6</th>\n",
       "      <td>7</td>\n",
       "      <td>Benoît Hamon Wins French Socialist Party’s Pre...</td>\n",
       "      <td>Alissa J. Rubin</td>\n",
       "      <td>PARIS  —   France chose an idealistic, traditi...</td>\n",
       "      <td>0</td>\n",
       "    </tr>\n",
       "    <tr>\n",
       "      <th>7</th>\n",
       "      <td>9</td>\n",
       "      <td>A Back-Channel Plan for Ukraine and Russia, Co...</td>\n",
       "      <td>Megan Twohey and Scott Shane</td>\n",
       "      <td>A week before Michael T. Flynn resigned as nat...</td>\n",
       "      <td>0</td>\n",
       "    </tr>\n",
       "    <tr>\n",
       "      <th>8</th>\n",
       "      <td>10</td>\n",
       "      <td>Obama’s Organizing for Action Partners with So...</td>\n",
       "      <td>Aaron Klein</td>\n",
       "      <td>Organizing for Action, the activist group that...</td>\n",
       "      <td>0</td>\n",
       "    </tr>\n",
       "    <tr>\n",
       "      <th>9</th>\n",
       "      <td>11</td>\n",
       "      <td>BBC Comedy Sketch \"Real Housewives of ISIS\" Ca...</td>\n",
       "      <td>Chris Tomlinson</td>\n",
       "      <td>The BBC produced spoof on the “Real Housewives...</td>\n",
       "      <td>0</td>\n",
       "    </tr>\n",
       "  </tbody>\n",
       "</table>\n",
       "</div>"
      ],
      "text/plain": [
       "   id                                              title  \\\n",
       "0   0  House Dem Aide: We Didn’t Even See Comey’s Let...   \n",
       "1   1  FLYNN: Hillary Clinton, Big Woman on Campus - ...   \n",
       "2   2                  Why the Truth Might Get You Fired   \n",
       "3   3  15 Civilians Killed In Single US Airstrike Hav...   \n",
       "4   4  Iranian woman jailed for fictional unpublished...   \n",
       "5   5  Jackie Mason: Hollywood Would Love Trump if He...   \n",
       "6   7  Benoît Hamon Wins French Socialist Party’s Pre...   \n",
       "7   9  A Back-Channel Plan for Ukraine and Russia, Co...   \n",
       "8  10  Obama’s Organizing for Action Partners with So...   \n",
       "9  11  BBC Comedy Sketch \"Real Housewives of ISIS\" Ca...   \n",
       "\n",
       "                         author  \\\n",
       "0                 Darrell Lucus   \n",
       "1               Daniel J. Flynn   \n",
       "2            Consortiumnews.com   \n",
       "3               Jessica Purkiss   \n",
       "4                Howard Portnoy   \n",
       "5               Daniel Nussbaum   \n",
       "6               Alissa J. Rubin   \n",
       "7  Megan Twohey and Scott Shane   \n",
       "8                   Aaron Klein   \n",
       "9               Chris Tomlinson   \n",
       "\n",
       "                                                text  label  \n",
       "0  House Dem Aide: We Didn’t Even See Comey’s Let...      1  \n",
       "1  Ever get the feeling your life circles the rou...      0  \n",
       "2  Why the Truth Might Get You Fired October 29, ...      1  \n",
       "3  Videos 15 Civilians Killed In Single US Airstr...      1  \n",
       "4  Print \\nAn Iranian woman has been sentenced to...      1  \n",
       "5  In these trying times, Jackie Mason is the Voi...      0  \n",
       "6  PARIS  —   France chose an idealistic, traditi...      0  \n",
       "7  A week before Michael T. Flynn resigned as nat...      0  \n",
       "8  Organizing for Action, the activist group that...      0  \n",
       "9  The BBC produced spoof on the “Real Housewives...      0  "
      ]
     },
     "execution_count": 32,
     "metadata": {},
     "output_type": "execute_result"
    }
   ],
   "source": [
    "data.head(10)"
   ]
  },
  {
   "cell_type": "code",
   "execution_count": 35,
   "id": "da3b2bd3",
   "metadata": {},
   "outputs": [],
   "source": [
    "from nltk.corpus import stopwords\n",
    "from nltk.stem.porter import PorterStemmer\n",
    "import re\n",
    "ps = PorterStemmer()\n",
    "corpus = []\n",
    "for i in range(0, len(data)):\n",
    "    review = re.sub('[^a-zA-Z]', ' ', data['text'][i])\n",
    "    review = review.lower()\n",
    "    review = review.split()\n",
    "    \n",
    "    review = [ps.stem(word) for word in review if not word in stopwords.words('english')]\n",
    "    review = ' '.join(review)\n",
    "    corpus.append(review)"
   ]
  },
  {
   "cell_type": "code",
   "execution_count": 36,
   "id": "867acdd2",
   "metadata": {},
   "outputs": [
    {
     "data": {
      "text/plain": [
       "'hous dem aid even see comey letter jason chaffetz tweet darrel lucu octob subscrib jason chaffetz stump american fork utah imag courtesi michael jolley avail creativ common licens apolog keith olbermann doubt worst person world week fbi director jame comey accord hous democrat aid look like also know second worst person well turn comey sent infam letter announc fbi look email may relat hillari clinton email server rank democrat relev committe hear comey found via tweet one republican committe chairmen know comey notifi republican chairmen democrat rank member hous intellig judiciari oversight committe agenc review email recent discov order see contain classifi inform long letter went oversight committe chairman jason chaffetz set polit world ablaz tweet fbi dir inform fbi learn exist email appear pertin investig case reopen jason chaffetz jasoninthehous octob cours know case comey actual say review email light unrel case know anthoni weiner sext teenag appar littl thing fact matter chaffetz utah republican alreadi vow initi raft investig hillari win least two year worth possibl entir term worth appar chaffetz thought fbi alreadi work result tweet briefli roil nation cooler head realiz dud accord senior hous democrat aid misread letter may least chaffetz sin aid told shareblu boss democrat even know comey letter time found check twitter democrat rank member relev committe receiv comey letter republican chairmen fact democrat rank member receiv chairman oversight govern reform committe jason chaffetz tweet made public let see got right fbi director tell chaffetz gop committe chairmen major develop potenti polit explos investig neither chaffetz colleagu courtesi let democrat counterpart know instead accord aid made find twitter alreadi talk daili ko comey provid advanc notic letter chaffetz republican give time turn spin machin may make good theater noth far even suggest case noth far suggest comey anyth grossli incompet tone deaf suggest howev chaffetz act way make dan burton darrel issa look like model respons bipartisanship even decenc notifi rank member elijah cum someth explos trampl basic standard fair know grant like chaffetz answer sit ridicul republican district anchor provo orem cook partisan vote index r gave mitt romney punish percent vote moreov republican hous leadership given full support chaffetz plan fish expedit mean turn hot light textbook exampl hous becom republican control also second worst person world darrel lucu darrel someth graduat univers north carolina consid journalist old school attempt turn member religi right colleg succeed turn religi right worst nightmar charismat christian unapologet liber desir stand scare silenc increas surviv abus three year marriag may know daili ko christian dem nc follow twitter darrelllucu connect facebook click buy darrel mello yello connect'"
      ]
     },
     "execution_count": 36,
     "metadata": {},
     "output_type": "execute_result"
    }
   ],
   "source": [
    "corpus[0]"
   ]
  },
  {
   "cell_type": "code",
   "execution_count": 38,
   "id": "6ba570d1",
   "metadata": {},
   "outputs": [
    {
     "name": "stdout",
     "output_type": "stream",
     "text": [
      "[[2802  351]\n",
      " [ 305 2028]]\n",
      "TRAIN DATA accuracy: 0.8887413079146809\n",
      "TEST data accuracy:  0.8804228946409042\n"
     ]
    }
   ],
   "source": [
    "from sklearn.feature_extraction.text import CountVectorizer\n",
    "cv = CountVectorizer(max_features= 2000,ngram_range=(1,4))\n",
    "X = cv.fit_transform(corpus).toarray()\n",
    "y = data['label']\n",
    "\n",
    "from sklearn.model_selection import train_test_split\n",
    "X_train, X_test, y_train, y_test = train_test_split(X, y, test_size=0.3, random_state=42)\n",
    "\n",
    "\n",
    "from sklearn.naive_bayes import MultinomialNB\n",
    "mb = MultinomialNB()\n",
    "mb.fit(X_train, y_train)\n",
    "\n",
    "y_pred=mb.predict(X_test)\n",
    "\n",
    "\n",
    "from sklearn.metrics import confusion_matrix\n",
    "print(confusion_matrix(y_pred,y_test))\n",
    "\n",
    "print(\"TRAIN DATA accuracy:\", mb.score(X_train,y_train))\n",
    "\n",
    "print(\"TEST data accuracy: \", mb.score(X_test,y_test))"
   ]
  },
  {
   "cell_type": "code",
   "execution_count": 39,
   "id": "bf99828b",
   "metadata": {},
   "outputs": [
    {
     "name": "stdout",
     "output_type": "stream",
     "text": [
      "[[2950  433]\n",
      " [ 157 1946]]\n",
      "TRAIN DATA accuracy: 0.9035080865692632\n",
      "TEST data accuracy:  0.8924535180459351\n"
     ]
    }
   ],
   "source": [
    "from sklearn.feature_extraction.text import TfidfVectorizer\n",
    "tf = TfidfVectorizer(ngram_range= (1,5),max_features= 4000)\n",
    "x_new = tf.fit_transform(corpus).toarray()\n",
    "\n",
    "X_final = pd.DataFrame(x_new, columns= tf.get_feature_names())\n",
    "\n",
    "from sklearn.model_selection import train_test_split\n",
    "X_train, X_test, y_train, y_test = train_test_split(X_final, y, test_size=0.3, random_state=42)\n",
    "\n",
    "from sklearn.naive_bayes import MultinomialNB\n",
    "mb = MultinomialNB()\n",
    "mb.fit(X_train, y_train)\n",
    "\n",
    "y_pred_tfid = mb.predict(X_test)\n",
    "\n",
    "\n",
    "from sklearn.metrics import confusion_matrix\n",
    "print(confusion_matrix(y_pred_tfid,y_test))\n",
    "\n",
    "print(\"TRAIN DATA accuracy:\", mb.score(X_train,y_train))\n",
    "\n",
    "print(\"TEST data accuracy: \", mb.score(X_test,y_test))"
   ]
  },
  {
   "cell_type": "code",
   "execution_count": 41,
   "id": "6d40608b",
   "metadata": {},
   "outputs": [],
   "source": [
    "import tensorflow as tf"
   ]
  },
  {
   "cell_type": "code",
   "execution_count": 42,
   "id": "11111fc8",
   "metadata": {},
   "outputs": [
    {
     "data": {
      "text/plain": [
       "'2.5.0'"
      ]
     },
     "execution_count": 42,
     "metadata": {},
     "output_type": "execute_result"
    }
   ],
   "source": [
    "tf.__version__"
   ]
  },
  {
   "cell_type": "code",
   "execution_count": 46,
   "id": "0f00631b",
   "metadata": {},
   "outputs": [],
   "source": [
    "from tensorflow.keras.layers import Embedding\n",
    "from tensorflow.keras.models import Sequential\n",
    "from tensorflow.keras.preprocessing.text import one_hot\n",
    "from tensorflow.keras.preprocessing.sequence import pad_sequences\n",
    "from tensorflow.keras.layers import LSTM\n",
    "from tensorflow.keras.layers import Dense\n"
   ]
  },
  {
   "cell_type": "code",
   "execution_count": 48,
   "id": "d66d8610",
   "metadata": {},
   "outputs": [
    {
     "data": {
      "text/plain": [
       "[3920,\n",
       " 3363,\n",
       " 728,\n",
       " 2164,\n",
       " 4487,\n",
       " 2911,\n",
       " 351,\n",
       " 4301,\n",
       " 2121,\n",
       " 1050,\n",
       " 3219,\n",
       " 1931,\n",
       " 4583,\n",
       " 3783,\n",
       " 4301,\n",
       " 2121,\n",
       " 4935,\n",
       " 3517,\n",
       " 3390,\n",
       " 3224,\n",
       " 4102,\n",
       " 2125,\n",
       " 3785,\n",
       " 2568,\n",
       " 1217,\n",
       " 1988,\n",
       " 3497,\n",
       " 2755,\n",
       " 2665,\n",
       " 1176,\n",
       " 132,\n",
       " 3897,\n",
       " 4435,\n",
       " 113,\n",
       " 3237,\n",
       " 1833,\n",
       " 3703,\n",
       " 4313,\n",
       " 4011,\n",
       " 2911,\n",
       " 2260,\n",
       " 3920,\n",
       " 4507,\n",
       " 728,\n",
       " 1902,\n",
       " 2578,\n",
       " 3973,\n",
       " 788,\n",
       " 1909,\n",
       " 4435,\n",
       " 113,\n",
       " 4248,\n",
       " 2774,\n",
       " 2911,\n",
       " 3471,\n",
       " 2466,\n",
       " 351,\n",
       " 866,\n",
       " 3703,\n",
       " 1902,\n",
       " 3903,\n",
       " 1565,\n",
       " 273,\n",
       " 2055,\n",
       " 3176,\n",
       " 3903,\n",
       " 1139,\n",
       " 4025,\n",
       " 4507,\n",
       " 4835,\n",
       " 401,\n",
       " 4433,\n",
       " 2911,\n",
       " 2313,\n",
       " 2910,\n",
       " 1050,\n",
       " 3308,\n",
       " 3449,\n",
       " 401,\n",
       " 2751,\n",
       " 788,\n",
       " 2911,\n",
       " 3275,\n",
       " 3449,\n",
       " 2751,\n",
       " 4507,\n",
       " 4025,\n",
       " 380,\n",
       " 3920,\n",
       " 3897,\n",
       " 1606,\n",
       " 1249,\n",
       " 401,\n",
       " 3172,\n",
       " 1148,\n",
       " 3903,\n",
       " 4354,\n",
       " 4354,\n",
       " 1591,\n",
       " 4487,\n",
       " 3709,\n",
       " 208,\n",
       " 4738,\n",
       " 4327,\n",
       " 351,\n",
       " 1022,\n",
       " 1249,\n",
       " 401,\n",
       " 4635,\n",
       " 4301,\n",
       " 2121,\n",
       " 707,\n",
       " 2688,\n",
       " 3237,\n",
       " 1665,\n",
       " 1050,\n",
       " 3703,\n",
       " 4215,\n",
       " 4738,\n",
       " 3703,\n",
       " 4098,\n",
       " 2036,\n",
       " 3903,\n",
       " 1203,\n",
       " 4308,\n",
       " 4968,\n",
       " 1677,\n",
       " 1984,\n",
       " 4301,\n",
       " 2121,\n",
       " 4136,\n",
       " 4583,\n",
       " 1776,\n",
       " 788,\n",
       " 1677,\n",
       " 2911,\n",
       " 3169,\n",
       " 2858,\n",
       " 1148,\n",
       " 3903,\n",
       " 4924,\n",
       " 1399,\n",
       " 1677,\n",
       " 788,\n",
       " 3811,\n",
       " 4198,\n",
       " 1774,\n",
       " 3678,\n",
       " 1254,\n",
       " 1813,\n",
       " 3761,\n",
       " 2710,\n",
       " 4170,\n",
       " 2121,\n",
       " 3224,\n",
       " 3449,\n",
       " 4282,\n",
       " 3647,\n",
       " 2293,\n",
       " 574,\n",
       " 4968,\n",
       " 2055,\n",
       " 233,\n",
       " 4368,\n",
       " 4046,\n",
       " 4018,\n",
       " 1538,\n",
       " 941,\n",
       " 2657,\n",
       " 614,\n",
       " 1538,\n",
       " 1254,\n",
       " 2121,\n",
       " 3327,\n",
       " 3703,\n",
       " 4282,\n",
       " 2210,\n",
       " 2399,\n",
       " 1050,\n",
       " 3236,\n",
       " 3425,\n",
       " 3814,\n",
       " 335,\n",
       " 1622,\n",
       " 753,\n",
       " 1646,\n",
       " 2260,\n",
       " 2953,\n",
       " 3920,\n",
       " 4507,\n",
       " 728,\n",
       " 3133,\n",
       " 351,\n",
       " 1565,\n",
       " 4368,\n",
       " 2121,\n",
       " 1755,\n",
       " 728,\n",
       " 4130,\n",
       " 4871,\n",
       " 3920,\n",
       " 4507,\n",
       " 2164,\n",
       " 788,\n",
       " 2911,\n",
       " 351,\n",
       " 1799,\n",
       " 2313,\n",
       " 2612,\n",
       " 2269,\n",
       " 4507,\n",
       " 4025,\n",
       " 380,\n",
       " 4835,\n",
       " 401,\n",
       " 1637,\n",
       " 2911,\n",
       " 351,\n",
       " 3449,\n",
       " 2751,\n",
       " 2710,\n",
       " 4507,\n",
       " 4025,\n",
       " 380,\n",
       " 1637,\n",
       " 4635,\n",
       " 1249,\n",
       " 486,\n",
       " 4197,\n",
       " 401,\n",
       " 4301,\n",
       " 2121,\n",
       " 1050,\n",
       " 3934,\n",
       " 1090,\n",
       " 3551,\n",
       " 4487,\n",
       " 3022,\n",
       " 3067,\n",
       " 3703,\n",
       " 4313,\n",
       " 1989,\n",
       " 2121,\n",
       " 3387,\n",
       " 401,\n",
       " 2751,\n",
       " 2183,\n",
       " 1590,\n",
       " 2363,\n",
       " 2688,\n",
       " 465,\n",
       " 4968,\n",
       " 1214,\n",
       " 2121,\n",
       " 4637,\n",
       " 2125,\n",
       " 3551,\n",
       " 4507,\n",
       " 3215,\n",
       " 788,\n",
       " 4030,\n",
       " 2260,\n",
       " 728,\n",
       " 3934,\n",
       " 2878,\n",
       " 2269,\n",
       " 4282,\n",
       " 291,\n",
       " 1144,\n",
       " 2376,\n",
       " 2911,\n",
       " 2647,\n",
       " 3783,\n",
       " 3625,\n",
       " 351,\n",
       " 2121,\n",
       " 3449,\n",
       " 2295,\n",
       " 1799,\n",
       " 2774,\n",
       " 1850,\n",
       " 2783,\n",
       " 1565,\n",
       " 1399,\n",
       " 3241,\n",
       " 3256,\n",
       " 3325,\n",
       " 3411,\n",
       " 2164,\n",
       " 4003,\n",
       " 1677,\n",
       " 3325,\n",
       " 3411,\n",
       " 4003,\n",
       " 2911,\n",
       " 2976,\n",
       " 4566,\n",
       " 1612,\n",
       " 1953,\n",
       " 1905,\n",
       " 4003,\n",
       " 3701,\n",
       " 2121,\n",
       " 1217,\n",
       " 2303,\n",
       " 1399,\n",
       " 4990,\n",
       " 1593,\n",
       " 3219,\n",
       " 685,\n",
       " 1902,\n",
       " 2578,\n",
       " 2600,\n",
       " 2193,\n",
       " 3706,\n",
       " 2164,\n",
       " 3229,\n",
       " 3275,\n",
       " 4025,\n",
       " 380,\n",
       " 4758,\n",
       " 3565,\n",
       " 1497,\n",
       " 465,\n",
       " 1255,\n",
       " 2168,\n",
       " 994,\n",
       " 1582,\n",
       " 788,\n",
       " 4412,\n",
       " 2578,\n",
       " 2121,\n",
       " 4075,\n",
       " 4027,\n",
       " 1340,\n",
       " 3449,\n",
       " 4035,\n",
       " 4879,\n",
       " 4138,\n",
       " 4522,\n",
       " 1719,\n",
       " 4663,\n",
       " 368,\n",
       " 2378,\n",
       " 426,\n",
       " 1817,\n",
       " 4452,\n",
       " 2676,\n",
       " 4866,\n",
       " 4857,\n",
       " 368,\n",
       " 1098,\n",
       " 3449,\n",
       " 3920,\n",
       " 3108,\n",
       " 4907,\n",
       " 565,\n",
       " 597,\n",
       " 2121,\n",
       " 640,\n",
       " 2504,\n",
       " 1150,\n",
       " 346,\n",
       " 2774,\n",
       " 1757,\n",
       " 4924,\n",
       " 3515,\n",
       " 2983,\n",
       " 3920,\n",
       " 1525,\n",
       " 3449,\n",
       " 2339,\n",
       " 3973,\n",
       " 1909,\n",
       " 4435,\n",
       " 113,\n",
       " 3237,\n",
       " 3219,\n",
       " 1931,\n",
       " 3219,\n",
       " 1497,\n",
       " 3136,\n",
       " 1759,\n",
       " 2976,\n",
       " 2033,\n",
       " 4524,\n",
       " 363,\n",
       " 362,\n",
       " 4785,\n",
       " 4384,\n",
       " 2774,\n",
       " 380,\n",
       " 1454,\n",
       " 3067,\n",
       " 2808,\n",
       " 1251,\n",
       " 2774,\n",
       " 1454,\n",
       " 3067,\n",
       " 4435,\n",
       " 1401,\n",
       " 3887,\n",
       " 2682,\n",
       " 4163,\n",
       " 17,\n",
       " 2179,\n",
       " 629,\n",
       " 247,\n",
       " 816,\n",
       " 1405,\n",
       " 4879,\n",
       " 120,\n",
       " 1091,\n",
       " 4018,\n",
       " 1445,\n",
       " 1565,\n",
       " 788,\n",
       " 1144,\n",
       " 2376,\n",
       " 2682,\n",
       " 3363,\n",
       " 4911,\n",
       " 3064,\n",
       " 2269,\n",
       " 1818,\n",
       " 3652,\n",
       " 1949,\n",
       " 2254,\n",
       " 3016,\n",
       " 3219,\n",
       " 1204,\n",
       " 4725,\n",
       " 3652]"
      ]
     },
     "execution_count": 48,
     "metadata": {},
     "output_type": "execute_result"
    }
   ],
   "source": [
    "size_voc = 5000\n",
    "\n",
    "onehot_repr=[one_hot(words,size_voc)for words in corpus] \n",
    "onehot_repr[0]"
   ]
  },
  {
   "cell_type": "code",
   "execution_count": 54,
   "id": "2c07c8c0",
   "metadata": {},
   "outputs": [
    {
     "name": "stdout",
     "output_type": "stream",
     "text": [
      "[[1622  753 1646 ... 1204 4725 3652]\n",
      " [  89 3297  989 ...  682 4921 4045]\n",
      " [1684 1910  788 ...  130 3051 2119]\n",
      " ...\n",
      " [4039 1305 4905 ... 1089 1676 1821]\n",
      " [   0    0    0 ... 1025 2613 2132]\n",
      " [4355 2680 3696 ... 1725  164 4824]]\n"
     ]
    }
   ],
   "source": [
    "sent_length=250\n",
    "embedded_docs=pad_sequences(onehot_repr,padding='pre',maxlen=sent_length)\n",
    "print(embedded_docs)"
   ]
  },
  {
   "cell_type": "code",
   "execution_count": 52,
   "id": "a3897e41",
   "metadata": {},
   "outputs": [
    {
     "data": {
      "text/plain": [
       "2849"
      ]
     },
     "execution_count": 52,
     "metadata": {},
     "output_type": "execute_result"
    }
   ],
   "source": [
    "len(corpus[0])"
   ]
  },
  {
   "cell_type": "code",
   "execution_count": 55,
   "id": "cd352b87",
   "metadata": {},
   "outputs": [
    {
     "data": {
      "text/plain": [
       "array([1622,  753, 1646, 2260, 2953, 3920, 4507,  728, 3133,  351, 1565,\n",
       "       4368, 2121, 1755,  728, 4130, 4871, 3920, 4507, 2164,  788, 2911,\n",
       "        351, 1799, 2313, 2612, 2269, 4507, 4025,  380, 4835,  401, 1637,\n",
       "       2911,  351, 3449, 2751, 2710, 4507, 4025,  380, 1637, 4635, 1249,\n",
       "        486, 4197,  401, 4301, 2121, 1050, 3934, 1090, 3551, 4487, 3022,\n",
       "       3067, 3703, 4313, 1989, 2121, 3387,  401, 2751, 2183, 1590, 2363,\n",
       "       2688,  465, 4968, 1214, 2121, 4637, 2125, 3551, 4507, 3215,  788,\n",
       "       4030, 2260,  728, 3934, 2878, 2269, 4282,  291, 1144, 2376, 2911,\n",
       "       2647, 3783, 3625,  351, 2121, 3449, 2295, 1799, 2774, 1850, 2783,\n",
       "       1565, 1399, 3241, 3256, 3325, 3411, 2164, 4003, 1677, 3325, 3411,\n",
       "       4003, 2911, 2976, 4566, 1612, 1953, 1905, 4003, 3701, 2121, 1217,\n",
       "       2303, 1399, 4990, 1593, 3219,  685, 1902, 2578, 2600, 2193, 3706,\n",
       "       2164, 3229, 3275, 4025,  380, 4758, 3565, 1497,  465, 1255, 2168,\n",
       "        994, 1582,  788, 4412, 2578, 2121, 4075, 4027, 1340, 3449, 4035,\n",
       "       4879, 4138, 4522, 1719, 4663,  368, 2378,  426, 1817, 4452, 2676,\n",
       "       4866, 4857,  368, 1098, 3449, 3920, 3108, 4907,  565,  597, 2121,\n",
       "        640, 2504, 1150,  346, 2774, 1757, 4924, 3515, 2983, 3920, 1525,\n",
       "       3449, 2339, 3973, 1909, 4435,  113, 3237, 3219, 1931, 3219, 1497,\n",
       "       3136, 1759, 2976, 2033, 4524,  363,  362, 4785, 4384, 2774,  380,\n",
       "       1454, 3067, 2808, 1251, 2774, 1454, 3067, 4435, 1401, 3887, 2682,\n",
       "       4163,   17, 2179,  629,  247,  816, 1405, 4879,  120, 1091, 4018,\n",
       "       1445, 1565,  788, 1144, 2376, 2682, 3363, 4911, 3064, 2269, 1818,\n",
       "       3652, 1949, 2254, 3016, 3219, 1204, 4725, 3652])"
      ]
     },
     "execution_count": 55,
     "metadata": {},
     "output_type": "execute_result"
    }
   ],
   "source": [
    "embedded_docs[0]"
   ]
  },
  {
   "cell_type": "code",
   "execution_count": 56,
   "id": "ec3bf7d0",
   "metadata": {},
   "outputs": [
    {
     "name": "stdout",
     "output_type": "stream",
     "text": [
      "Model: \"sequential\"\n",
      "_________________________________________________________________\n",
      "Layer (type)                 Output Shape              Param #   \n",
      "=================================================================\n",
      "embedding (Embedding)        (None, 250, 40)           200000    \n",
      "_________________________________________________________________\n",
      "lstm (LSTM)                  (None, 100)               56400     \n",
      "_________________________________________________________________\n",
      "dense (Dense)                (None, 1)                 101       \n",
      "=================================================================\n",
      "Total params: 256,501\n",
      "Trainable params: 256,501\n",
      "Non-trainable params: 0\n",
      "_________________________________________________________________\n",
      "None\n"
     ]
    }
   ],
   "source": [
    "\n",
    "## Creating model\n",
    "embedding_vector_features=40\n",
    "model=Sequential()\n",
    "model.add(Embedding(size_voc,embedding_vector_features,input_length=sent_length))\n",
    "model.add(LSTM(100))\n",
    "model.add(Dense(1,activation='sigmoid'))\n",
    "model.compile(loss='binary_crossentropy',optimizer='adam',metrics=['accuracy'])\n",
    "print(model.summary())"
   ]
  },
  {
   "cell_type": "code",
   "execution_count": 57,
   "id": "f9d5304a",
   "metadata": {},
   "outputs": [
    {
     "data": {
      "text/plain": [
       "(18285, 250)"
      ]
     },
     "execution_count": 57,
     "metadata": {},
     "output_type": "execute_result"
    }
   ],
   "source": [
    "embedded_docs.shape"
   ]
  },
  {
   "cell_type": "code",
   "execution_count": 59,
   "id": "922926d8",
   "metadata": {},
   "outputs": [
    {
     "data": {
      "text/plain": [
       "(18285,)"
      ]
     },
     "execution_count": 59,
     "metadata": {},
     "output_type": "execute_result"
    }
   ],
   "source": [
    " data['label'].shape"
   ]
  },
  {
   "cell_type": "code",
   "execution_count": 61,
   "id": "4391fb34",
   "metadata": {},
   "outputs": [
    {
     "name": "stdout",
     "output_type": "stream",
     "text": [
      "(18285, 250)\n"
     ]
    }
   ],
   "source": [
    "X_final_lstm = np.array(embedded_docs)\n",
    "print(X_final_lstm.shape)"
   ]
  },
  {
   "cell_type": "code",
   "execution_count": 62,
   "id": "e7617d48",
   "metadata": {},
   "outputs": [],
   "source": [
    "y = data['label']\n",
    "from sklearn.model_selection import train_test_split\n",
    "X_train, X_test, y_train, y_test = train_test_split(X_final_lstm, y, test_size=0.33, random_state=42)"
   ]
  },
  {
   "cell_type": "code",
   "execution_count": 63,
   "id": "38d540b0",
   "metadata": {},
   "outputs": [
    {
     "name": "stdout",
     "output_type": "stream",
     "text": [
      "Epoch 1/10\n",
      "192/192 [==============================] - 60s 295ms/step - loss: 0.3673 - accuracy: 0.8376 - val_loss: 0.2292 - val_accuracy: 0.9104\n",
      "Epoch 2/10\n",
      "192/192 [==============================] - 58s 304ms/step - loss: 0.1668 - accuracy: 0.9404 - val_loss: 0.2161 - val_accuracy: 0.9158\n",
      "Epoch 3/10\n",
      "192/192 [==============================] - 57s 299ms/step - loss: 0.1183 - accuracy: 0.9595 - val_loss: 0.2308 - val_accuracy: 0.9114\n",
      "Epoch 4/10\n",
      "192/192 [==============================] - 57s 297ms/step - loss: 0.0885 - accuracy: 0.9709 - val_loss: 0.2318 - val_accuracy: 0.9191\n",
      "Epoch 5/10\n",
      "192/192 [==============================] - 57s 296ms/step - loss: 0.0712 - accuracy: 0.9771 - val_loss: 0.2723 - val_accuracy: 0.9170\n",
      "Epoch 6/10\n",
      "192/192 [==============================] - 57s 298ms/step - loss: 0.0602 - accuracy: 0.9795 - val_loss: 0.2993 - val_accuracy: 0.9162\n",
      "Epoch 7/10\n",
      "192/192 [==============================] - 58s 302ms/step - loss: 0.0363 - accuracy: 0.9885 - val_loss: 0.3296 - val_accuracy: 0.9148\n",
      "Epoch 8/10\n",
      "192/192 [==============================] - 58s 300ms/step - loss: 0.0530 - accuracy: 0.9815 - val_loss: 0.3149 - val_accuracy: 0.9130\n",
      "Epoch 9/10\n",
      "192/192 [==============================] - 57s 296ms/step - loss: 0.0964 - accuracy: 0.9658 - val_loss: 0.3615 - val_accuracy: 0.8993\n",
      "Epoch 10/10\n",
      "192/192 [==============================] - 58s 301ms/step - loss: 0.0723 - accuracy: 0.9767 - val_loss: 0.3231 - val_accuracy: 0.8829\n"
     ]
    },
    {
     "data": {
      "text/plain": [
       "<tensorflow.python.keras.callbacks.History at 0x29d1501feb0>"
      ]
     },
     "execution_count": 63,
     "metadata": {},
     "output_type": "execute_result"
    }
   ],
   "source": [
    "model.fit(X_train,y_train,validation_data=(X_test,y_test),epochs=10,batch_size=64)"
   ]
  },
  {
   "cell_type": "code",
   "execution_count": 65,
   "id": "5128b48c",
   "metadata": {},
   "outputs": [
    {
     "name": "stderr",
     "output_type": "stream",
     "text": [
      "c:\\users\\chaitanya mhetre\\appdata\\local\\programs\\python\\python39\\lib\\site-packages\\tensorflow\\python\\keras\\engine\\sequential.py:455: UserWarning: `model.predict_classes()` is deprecated and will be removed after 2021-01-01. Please use instead:* `np.argmax(model.predict(x), axis=-1)`,   if your model does multi-class classification   (e.g. if it uses a `softmax` last-layer activation).* `(model.predict(x) > 0.5).astype(\"int32\")`,   if your model does binary classification   (e.g. if it uses a `sigmoid` last-layer activation).\n",
      "  warnings.warn('`model.predict_classes()` is deprecated and '\n"
     ]
    },
    {
     "name": "stdout",
     "output_type": "stream",
     "text": [
      "confusion-matrix:\n",
      " [[3137  282]\n",
      " [ 425 2191]]\n",
      "accuracy_score: 0.8828500414250207\n"
     ]
    }
   ],
   "source": [
    "################### test data prediction #####################################\n",
    "y_pred=model.predict_classes(X_test)\n",
    "from sklearn.metrics import confusion_matrix\n",
    "print(\"confusion-matrix:\\n\" ,confusion_matrix(y_test,y_pred))\n",
    "from sklearn.metrics import accuracy_score\n",
    "print(\"accuracy_score:\", accuracy_score(y_test,y_pred))"
   ]
  },
  {
   "cell_type": "code",
   "execution_count": 68,
   "id": "a0ef1523",
   "metadata": {},
   "outputs": [
    {
     "name": "stdout",
     "output_type": "stream",
     "text": [
      "Model: \"sequential_3\"\n",
      "_________________________________________________________________\n",
      "Layer (type)                 Output Shape              Param #   \n",
      "=================================================================\n",
      "embedding_3 (Embedding)      (None, 250, 40)           200000    \n",
      "_________________________________________________________________\n",
      "dropout_2 (Dropout)          (None, 250, 40)           0         \n",
      "_________________________________________________________________\n",
      "lstm_2 (LSTM)                (None, 100)               56400     \n",
      "_________________________________________________________________\n",
      "dropout_3 (Dropout)          (None, 100)               0         \n",
      "_________________________________________________________________\n",
      "dense_2 (Dense)              (None, 1)                 101       \n",
      "=================================================================\n",
      "Total params: 256,501\n",
      "Trainable params: 256,501\n",
      "Non-trainable params: 0\n",
      "_________________________________________________________________\n",
      "None\n"
     ]
    }
   ],
   "source": [
    "## Creating model and adding dropouts\n",
    "from tensorflow.keras.layers import Dropout\n",
    "embedding_vector_features=40\n",
    "model1=Sequential()\n",
    "model1.add(Embedding(size_voc,embedding_vector_features,input_length=sent_length))\n",
    "model1.add(Dropout(0.5))\n",
    "model1.add(LSTM(100))\n",
    "model1.add(Dropout(0.5))\n",
    "model1.add(Dense(1,activation='sigmoid'))\n",
    "model1.compile(loss='binary_crossentropy',optimizer='adam',metrics=['accuracy'])\n",
    "print(model1.summary())"
   ]
  },
  {
   "cell_type": "code",
   "execution_count": 69,
   "id": "7c18abb7",
   "metadata": {},
   "outputs": [
    {
     "name": "stdout",
     "output_type": "stream",
     "text": [
      "Epoch 1/10\n",
      "192/192 [==============================] - 38s 188ms/step - loss: 0.3692 - accuracy: 0.8340 - val_loss: 0.2384 - val_accuracy: 0.9070\n",
      "Epoch 2/10\n",
      "192/192 [==============================] - 41s 215ms/step - loss: 0.1649 - accuracy: 0.9417 - val_loss: 0.2450 - val_accuracy: 0.8984\n",
      "Epoch 3/10\n",
      "192/192 [==============================] - 44s 227ms/step - loss: 0.1390 - accuracy: 0.9527 - val_loss: 0.2324 - val_accuracy: 0.9137\n",
      "Epoch 4/10\n",
      "192/192 [==============================] - 48s 249ms/step - loss: 0.1025 - accuracy: 0.9672 - val_loss: 0.2180 - val_accuracy: 0.9196\n",
      "Epoch 5/10\n",
      "192/192 [==============================] - 50s 261ms/step - loss: 0.0830 - accuracy: 0.9726 - val_loss: 0.2710 - val_accuracy: 0.9148\n",
      "Epoch 6/10\n",
      "192/192 [==============================] - 50s 259ms/step - loss: 0.0723 - accuracy: 0.9762 - val_loss: 0.2797 - val_accuracy: 0.9171\n",
      "Epoch 7/10\n",
      "192/192 [==============================] - 54s 280ms/step - loss: 0.0656 - accuracy: 0.9777 - val_loss: 0.2492 - val_accuracy: 0.9148\n",
      "Epoch 8/10\n",
      "192/192 [==============================] - 55s 289ms/step - loss: 0.0539 - accuracy: 0.9825 - val_loss: 0.2850 - val_accuracy: 0.9168\n",
      "Epoch 9/10\n",
      "192/192 [==============================] - 59s 307ms/step - loss: 0.0337 - accuracy: 0.9894 - val_loss: 0.3329 - val_accuracy: 0.9175\n",
      "Epoch 10/10\n",
      "192/192 [==============================] - 58s 303ms/step - loss: 0.0499 - accuracy: 0.9833 - val_loss: 0.2980 - val_accuracy: 0.9176\n"
     ]
    },
    {
     "data": {
      "text/plain": [
       "<tensorflow.python.keras.callbacks.History at 0x29d5ccbedc0>"
      ]
     },
     "execution_count": 69,
     "metadata": {},
     "output_type": "execute_result"
    }
   ],
   "source": [
    "model1.fit(X_train,y_train,validation_data=(X_test,y_test),epochs=10,batch_size=64)"
   ]
  },
  {
   "cell_type": "code",
   "execution_count": 70,
   "id": "9e20c749",
   "metadata": {},
   "outputs": [],
   "source": [
    "### NOTE: Accuracy incresed to 98.3 percent after adding dropout layers"
   ]
  },
  {
   "cell_type": "code",
   "execution_count": 71,
   "id": "2cdac49c",
   "metadata": {},
   "outputs": [
    {
     "name": "stderr",
     "output_type": "stream",
     "text": [
      "c:\\users\\chaitanya mhetre\\appdata\\local\\programs\\python\\python39\\lib\\site-packages\\tensorflow\\python\\keras\\engine\\sequential.py:455: UserWarning: `model.predict_classes()` is deprecated and will be removed after 2021-01-01. Please use instead:* `np.argmax(model.predict(x), axis=-1)`,   if your model does multi-class classification   (e.g. if it uses a `softmax` last-layer activation).* `(model.predict(x) > 0.5).astype(\"int32\")`,   if your model does binary classification   (e.g. if it uses a `sigmoid` last-layer activation).\n",
      "  warnings.warn('`model.predict_classes()` is deprecated and '\n"
     ]
    },
    {
     "name": "stdout",
     "output_type": "stream",
     "text": [
      "confusion-matrix:\n",
      " [[3155  264]\n",
      " [ 233 2383]]\n",
      "accuracy_score: 0.9176470588235294\n"
     ]
    }
   ],
   "source": [
    "################### test data prediction #####################################\n",
    "y_pred_dp =model1.predict_classes(X_test)\n",
    "from sklearn.metrics import confusion_matrix\n",
    "print(\"confusion-matrix:\\n\" ,confusion_matrix(y_test,y_pred_dp))\n",
    "from sklearn.metrics import accuracy_score\n",
    "print(\"accuracy_score:\", accuracy_score(y_test,y_pred_dp))"
   ]
  },
  {
   "cell_type": "code",
   "execution_count": 72,
   "id": "8fb4b617",
   "metadata": {},
   "outputs": [],
   "source": [
    "test_data = pd.read_csv('test.csv')"
   ]
  },
  {
   "cell_type": "code",
   "execution_count": 73,
   "id": "5d3a59de",
   "metadata": {},
   "outputs": [
    {
     "data": {
      "text/plain": [
       "(5200, 4)"
      ]
     },
     "execution_count": 73,
     "metadata": {},
     "output_type": "execute_result"
    }
   ],
   "source": [
    "test_data.shape"
   ]
  },
  {
   "cell_type": "code",
   "execution_count": 74,
   "id": "5d6e2c8a",
   "metadata": {},
   "outputs": [
    {
     "data": {
      "text/html": [
       "<div>\n",
       "<style scoped>\n",
       "    .dataframe tbody tr th:only-of-type {\n",
       "        vertical-align: middle;\n",
       "    }\n",
       "\n",
       "    .dataframe tbody tr th {\n",
       "        vertical-align: top;\n",
       "    }\n",
       "\n",
       "    .dataframe thead th {\n",
       "        text-align: right;\n",
       "    }\n",
       "</style>\n",
       "<table border=\"1\" class=\"dataframe\">\n",
       "  <thead>\n",
       "    <tr style=\"text-align: right;\">\n",
       "      <th></th>\n",
       "      <th>id</th>\n",
       "      <th>title</th>\n",
       "      <th>author</th>\n",
       "      <th>text</th>\n",
       "    </tr>\n",
       "  </thead>\n",
       "  <tbody>\n",
       "    <tr>\n",
       "      <th>0</th>\n",
       "      <td>20800</td>\n",
       "      <td>Specter of Trump Loosens Tongues, if Not Purse...</td>\n",
       "      <td>David Streitfeld</td>\n",
       "      <td>PALO ALTO, Calif.  —   After years of scorning...</td>\n",
       "    </tr>\n",
       "    <tr>\n",
       "      <th>1</th>\n",
       "      <td>20801</td>\n",
       "      <td>Russian warships ready to strike terrorists ne...</td>\n",
       "      <td>NaN</td>\n",
       "      <td>Russian warships ready to strike terrorists ne...</td>\n",
       "    </tr>\n",
       "    <tr>\n",
       "      <th>2</th>\n",
       "      <td>20802</td>\n",
       "      <td>#NoDAPL: Native American Leaders Vow to Stay A...</td>\n",
       "      <td>Common Dreams</td>\n",
       "      <td>Videos #NoDAPL: Native American Leaders Vow to...</td>\n",
       "    </tr>\n",
       "    <tr>\n",
       "      <th>3</th>\n",
       "      <td>20803</td>\n",
       "      <td>Tim Tebow Will Attempt Another Comeback, This ...</td>\n",
       "      <td>Daniel Victor</td>\n",
       "      <td>If at first you don’t succeed, try a different...</td>\n",
       "    </tr>\n",
       "    <tr>\n",
       "      <th>4</th>\n",
       "      <td>20804</td>\n",
       "      <td>Keiser Report: Meme Wars (E995)</td>\n",
       "      <td>Truth Broadcast Network</td>\n",
       "      <td>42 mins ago 1 Views 0 Comments 0 Likes 'For th...</td>\n",
       "    </tr>\n",
       "  </tbody>\n",
       "</table>\n",
       "</div>"
      ],
      "text/plain": [
       "      id                                              title  \\\n",
       "0  20800  Specter of Trump Loosens Tongues, if Not Purse...   \n",
       "1  20801  Russian warships ready to strike terrorists ne...   \n",
       "2  20802  #NoDAPL: Native American Leaders Vow to Stay A...   \n",
       "3  20803  Tim Tebow Will Attempt Another Comeback, This ...   \n",
       "4  20804                    Keiser Report: Meme Wars (E995)   \n",
       "\n",
       "                    author                                               text  \n",
       "0         David Streitfeld  PALO ALTO, Calif.  —   After years of scorning...  \n",
       "1                      NaN  Russian warships ready to strike terrorists ne...  \n",
       "2            Common Dreams  Videos #NoDAPL: Native American Leaders Vow to...  \n",
       "3            Daniel Victor  If at first you don’t succeed, try a different...  \n",
       "4  Truth Broadcast Network  42 mins ago 1 Views 0 Comments 0 Likes 'For th...  "
      ]
     },
     "execution_count": 74,
     "metadata": {},
     "output_type": "execute_result"
    }
   ],
   "source": [
    "test_data.head()"
   ]
  },
  {
   "cell_type": "code",
   "execution_count": 75,
   "id": "f1f0a411",
   "metadata": {},
   "outputs": [
    {
     "data": {
      "text/plain": [
       "id          0\n",
       "title     122\n",
       "author    503\n",
       "text        7\n",
       "dtype: int64"
      ]
     },
     "execution_count": 75,
     "metadata": {},
     "output_type": "execute_result"
    }
   ],
   "source": [
    "test_data.isnull().sum()"
   ]
  },
  {
   "cell_type": "code",
   "execution_count": 76,
   "id": "2326d944",
   "metadata": {},
   "outputs": [],
   "source": [
    "test_data.dropna(inplace=True)"
   ]
  },
  {
   "cell_type": "code",
   "execution_count": 77,
   "id": "507a0eed",
   "metadata": {},
   "outputs": [
    {
     "data": {
      "text/plain": [
       "(4575, 4)"
      ]
     },
     "execution_count": 77,
     "metadata": {},
     "output_type": "execute_result"
    }
   ],
   "source": [
    "test_data.shape"
   ]
  },
  {
   "cell_type": "code",
   "execution_count": 78,
   "id": "eb167425",
   "metadata": {},
   "outputs": [
    {
     "name": "stdout",
     "output_type": "stream",
     "text": [
      "(4575, 4)\n"
     ]
    }
   ],
   "source": [
    "data_test = test_data.reset_index(drop=True)\n",
    "print(data_test.shape)"
   ]
  },
  {
   "cell_type": "code",
   "execution_count": 79,
   "id": "23f7e880",
   "metadata": {},
   "outputs": [],
   "source": [
    "from nltk.corpus import stopwords\n",
    "from nltk.stem.porter import PorterStemmer\n",
    "import re\n",
    "ps = PorterStemmer()\n",
    "corpus_test = []\n",
    "for i in range(0, len(data_test)):\n",
    "    review = re.sub('[^a-zA-Z]', ' ', data_test['text'][i])\n",
    "    review = review.lower()\n",
    "    review = review.split()\n",
    "    \n",
    "    review = [ps.stem(word) for word in review if not word in stopwords.words('english')]\n",
    "    review = ' '.join(review)\n",
    "    corpus_test.append(review)"
   ]
  },
  {
   "cell_type": "code",
   "execution_count": 80,
   "id": "327dfa78",
   "metadata": {},
   "outputs": [
    {
     "data": {
      "text/plain": [
       "'palo alto calif year scorn polit process silicon valley leapt fray prospect presid donald j trump push tech commun move beyond tradit role donor embrac new exist agit activist distinguish ventur capit firm emblazon corpor home page earthi epithet one promin tech chieftain say consequ mr trump elect would rang disastr terribl anoth compar dictat nearli tech leader sign open letter decri mr trump campaign anger bigotri quit action peter thiel founder paypal palantir first outsid investor facebook spoke republican convent juli new york time report saturday mr thiel give million support mr trump candidaci even support flee also recent gave million super pac support senat rob portman republican freshman run ohio get involv polit use seen clash silicon valley valu system transform world make problem obsolet solv washington entrepreneur want alien whatev segment custom agre polit retic longer style bunch nerd use lot limelight said dave mcclure investor run tech incub call startup quot great power come great respons mr mcclure grew worri republican democrat convent mr trump began catch hillari clinton poll want silicon valley late last month announc nerdz hillari inform effort initi group donor pledg goal ask nerdz small donat match sum come yet kind optimist get week mr mcclure said rel slow pace reflect silicon valley shift posit even becom increasingli free opinion less free checkbook recent data late august show mr clinton take million tech commun accord crowdpac track donat point crowdpac say presid obama rais million entrepreneur ventur capitalist reid hoffman billionair busi network site linkedin offer snapshot silicon valley evolv approach polit mr hoffman top obama donor give million prioriti usa polit action committe someth sever peer well last month mr hoffman garner worldwid public say would donat million veteran group mr trump releas tax remot possibl never came pass castig mr trump interview say speak afraid mr hoffman outright donat howev smaller elect cycl may gave hillari victori fund ask recent give shown feder elect record mr hoffman cryptic respond email look pac etc declin sever opportun elabor even prioriti usa rais million elect cycl far exceed total tech contribut dwindl familiar tech name time around john doerr ventur capit firm kleiner perkin caufield byer gave aol steve case said septemb endors mr clinton via washington post first time ever publicli declar candid alway focus polici avoid polit said trump elect presid would disappoint act wrote uncertain donat money mr clinton say probabl spokeswoman said sunday mr case gave hillari victori fund mason harrison crowdpac head commun offer possibl reason mr clinton support donor give support candid love defeat candid fear said billionair act instead talk dustin moskovitz founder facebook said give million variou democrat elect effort first time wife cari tuna endors candid declin interview part problem mr clinton howev prefer may mr trump tech commun pale comparison presid obama initi misgiv silicon valley found champion revolv door tech obama administr previou democrat administr revolv door wall street june presid obama seem suggest might becom ventur capitalist term end mr clinton enthusiast toward silicon valley disrupt way speech summer note gig economi uber airbnb ilk unleash innov also rais hard question workplac protect good job look like futur clinton campaign declin comment trump campaign respond queri even silicon valley work mr trump quiet acknowledg campaign bare import issu endors month mr clinton ventur capit firm union squar ventur point benefit technolog global evenli distribut need chang silicon valley polit involv outlast unusu elect tech commun may start contribut process commentari cash tech peopl go wield influenc go candid mr mcclure said reid hoffman sheryl sandberg chief oper offic facebook bunch folk polit aspir other may inspir enter polit door palmer luckey founder oculu virtual realiti compani sold facebook billion mr luckey donat group dedic spread messag mr clinton onlin group first billboard said outsid pittsburgh label big jail mr luckey told daili beast think went along line hey bunch money would love see stuff ad thought sound like real jolli good time mani virtual realiti develop less happi mr luckey quickli post regret facebook declin comment go vocal live transpar said hunter walk ventur capitalist whose campaign persuad tech compani give worker elect day sign nearli firm includ spotifi surveymonkey taskrabbit period adjust perhap vocal temporari condit ventur firm crv spotlight end august blunt messag includ earthi epithet week later clean websit partner went employ publicist seek attent declin interview reach everyon want reach hope influenc opinion said saar gur crv ventur capitalist buzz die went back day job super busi'"
      ]
     },
     "execution_count": 80,
     "metadata": {},
     "output_type": "execute_result"
    }
   ],
   "source": [
    "corpus_test[0]"
   ]
  },
  {
   "cell_type": "code",
   "execution_count": 81,
   "id": "46ebd645",
   "metadata": {},
   "outputs": [
    {
     "data": {
      "text/plain": [
       "'PALO ALTO, Calif.  —   After years of scorning the political process, Silicon Valley has leapt into the fray. The prospect of a President Donald J. Trump is pushing the tech community to move beyond its traditional role as donors and to embrace a new existence as agitators and activists. A distinguished venture capital firm emblazoned on its corporate home page an earthy   epithet. One prominent tech chieftain says the consequences of Mr. Trump’s election would “range between disastrous and terrible. ” Another compares him to a dictator. And nearly 150 tech leaders signed an open letter decrying Mr. Trump and his campaign of “anger” and “bigotry. ” Not quite all the action is  . Peter Thiel, a founder of PayPal and Palantir who was the first outside investor in Facebook, spoke at the Republican convention in July. The New York Times reported on Saturday that Mr. Thiel is giving $1. 25 million to support Mr. Trump’s candidacy even as other supporters flee. (He also recently gave $1 million to a “super PAC” that supports Senator Rob Portman, the Republican freshman running for   in Ohio.) Getting involved in politics used to be seen as clashing with Silicon Valley’s value system: You transform the world by making problems obsolete, not solving them through Washington. Nor did entrepreneurs want to alienate whatever segment of customers did not agree with them politically. Such reticence is no longer in style here. “We’re a bunch of nerds not used to having a lot of limelight,” said Dave McClure, an investor who runs a tech incubator called 500 Startups. “But to quote   ‘With great power comes great responsibility. ’” Mr. McClure grew worried after the Republican and Democratic conventions as Mr. Trump began to catch up to Hillary Clinton in the polls. He wanted Silicon Valley to do more, and so late last month he announced Nerdz4Hillary, an informal   effort. An initial group of donors pledged $50, 000 the goal was to ask the “nerdz” for small donations to match that sum. They have not come through yet. “We’re kind of optimistic we’ll get the other $50, 000 in a few weeks,” Mr. McClure said. That relatively slow pace reflects Silicon Valley’s shifting position: Even as it becomes increasingly free with its opinions, it has been less free with its checkbook. The most recent data, from late August, shows Mrs. Clinton taking in $7. 7 million from the tech community, according to Crowdpac, a   that tracks donations. By that point in 2012, Crowdpac says, President Obama had raised $21 million from entrepreneurs and venture capitalists. Reid Hoffman, the billionaire   of the business networking site LinkedIn, offers a snapshot of Silicon Valley’s evolving approach to politics. Mr. Hoffman was a top Obama donor, giving $1 million to the Priorities USA political action committee, something several of his peers did as well. Last month, Mr. Hoffman garnered worldwide publicity for saying he would donate up to $5 million to veterans’ groups if Mr. Trump released his taxes, a remote possibility that never came to pass. He has castigated Mr. Trump in interviews, saying he was speaking for those who were afraid. Mr. Hoffman’s outright donations, however, have been smaller this election cycle. In May, he gave $400, 000 to the Hillary Victory Fund. Asked if there was more recent giving that had not shown up in federal election records, Mr. Hoffman cryptically responded in an email, “Looking at some PACs, etc. ” He declined several opportunities to elaborate. Even as Priorities USA has raised $133 million this election cycle, far exceeding its total in 2012, its tech contributions have dwindled. The only familiar tech name this time around is John Doerr of the venture capital firm Kleiner Perkins Caufield  Byers, who gave $500, 000. The AOL   Steve Case said his September endorsement of Mrs. Clinton, via an   in The Washington Post, was the first time he ever publicly declared for a candidate. “I always focused on policy and avoided politics,” he said. “But if Trump were elected president, I would be disappointed in myself for not acting. ” When he wrote the   he was uncertain about donating money to Mrs. Clinton, saying only that it was “probable. ” A spokeswoman said Sunday that Mr. Case gave $25, 000 to the Hillary Victory Fund. Mason Harrison, Crowdpac’s head of communications, offered a possible reason for Mrs. Clinton’s    support. “Donors give to support candidates they love, not to defeat candidates they fear,” he said. A few billionaires are acting instead of talking. Dustin Moskovitz, a founder of Facebook, said he was giving $20 million to various Democratic election efforts  —   the first time he and his wife, Cari Tuna, have endorsed a candidate. He declined to be interviewed. Part of the problem for Mrs. Clinton is that, however preferable she may be to Mr. Trump in the tech community, she pales in comparison to President Obama. After some initial misgivings, Silicon Valley found its champion in him. There has been a revolving door between tech and the Obama administration, just as previous Democratic administrations had a revolving door with Wall Street. In June, President Obama seemed to suggest that he might become a venture capitalist after his term ends. Mrs. Clinton is not as enthusiastic toward Silicon Valley and its disruptive ways. In a speech in the summer of 2015, she noted that   in the “  or   gig economy”  —   Uber, Airbnb and their ilk  —   were “unleashing innovation” but also “raising hard questions about workplace protection and what a good job will look like in the future. ” The Clinton campaign declined to comment. The Trump campaign did not respond to a query. Even as Silicon Valley works against Mr. Trump, there is quiet acknowledgment that his campaign has bared some important issues. In an endorsement this month of Mrs. Clinton, the venture capital firm Union Square Ventures pointed out that “the benefits of technology and globalization have not been evenly distributed,” and that this needed to change. If Silicon Valley’s political involvement outlasts this unusual election, the tech community may start contributing more to the process than commentary and cash. “Not only are tech people going to be wielding influence, but they’re going to be the candidate,” Mr. McClure said. “Reid Hoffman, Sheryl Sandberg”  —   the chief operating officer of Facebook  —   “and a bunch of other folks here have political aspirations. ” Others may be inspired to enter politics through other doors. Palmer Luckey is the    founder of the Oculus virtual reality company, which he sold to Facebook for $2 billion. Mr. Luckey donated $10, 000 to a group dedicated to spreading    messages about Mrs. Clinton both online and off. The group’s first billboard, said to be outside Pittsburgh, labeled her “Too Big to Jail. ” Mr. Luckey told The Daily Beast that his thinking “went along the lines of, ‘Hey, I have a bunch of money. I would love to see more of this stuff. ’” He added, “I thought it sounded like a real jolly good time. ” Many virtual reality developers were less happy, and Mr. Luckey quickly posted his regrets on Facebook. He declined to comment further. “If we’re going to be more vocal, we’ll have to live more transparently,” said Hunter Walk, a venture capitalist whose campaign to persuade tech companies to give workers Election Day off signed up nearly 300 firms, including Spotify, SurveyMonkey and TaskRabbit. “There will be a period of adjustment. ” But perhaps being vocal is a temporary condition after all. The venture firm CRV was in the spotlight at the end of August with its blunt   message, which included the earthy epithet. A few weeks later, it cleaned up its website. The partners went from employing a publicist to seek out attention to declining interviews. “We reached everyone we wanted to reach, and hopefully influenced opinions,” said Saar Gur, a CRV venture capitalist. “Then the buzz died down and we went back to our day jobs, which are super busy. ”'"
      ]
     },
     "execution_count": 81,
     "metadata": {},
     "output_type": "execute_result"
    }
   ],
   "source": [
    "data_test['text'][0]"
   ]
  },
  {
   "cell_type": "code",
   "execution_count": 83,
   "id": "714d36b2",
   "metadata": {},
   "outputs": [],
   "source": [
    "test_data_corpus = np.array(corpus_test)"
   ]
  },
  {
   "cell_type": "code",
   "execution_count": 87,
   "id": "883d0332",
   "metadata": {},
   "outputs": [
    {
     "data": {
      "text/plain": [
       "(4575,)"
      ]
     },
     "execution_count": 87,
     "metadata": {},
     "output_type": "execute_result"
    }
   ],
   "source": [
    "test_data_corpus.shape\n"
   ]
  },
  {
   "cell_type": "code",
   "execution_count": 88,
   "id": "6b82bae9",
   "metadata": {},
   "outputs": [
    {
     "data": {
      "text/plain": [
       "(6035, 250)"
      ]
     },
     "execution_count": 88,
     "metadata": {},
     "output_type": "execute_result"
    }
   ],
   "source": [
    "X_test.shape"
   ]
  },
  {
   "cell_type": "code",
   "execution_count": 89,
   "id": "7e87d9d8",
   "metadata": {},
   "outputs": [
    {
     "name": "stdout",
     "output_type": "stream",
     "text": [
      "[[3541  779 3647 ... 1112 2027 4467]\n",
      " [1203  324 2351 ... 4933 3438 4583]\n",
      " [3212  707 2363 ... 3018 2037 1212]\n",
      " ...\n",
      " [1081 1232 3450 ... 1250  736 4649]\n",
      " [1224 3153 4770 ... 4369 2902 4599]\n",
      " [2160 1804  710 ... 3831  235 4934]]\n"
     ]
    }
   ],
   "source": [
    "size_voc = 5000\n",
    "\n",
    "onehot_repr_test=[one_hot(words,size_voc)for words in test_data_corpus] \n",
    "\n",
    "\n",
    "sent_length=250\n",
    "embedded_docs_test=pad_sequences(onehot_repr_test,padding='pre',maxlen=sent_length)\n",
    "print(embedded_docs_test)"
   ]
  },
  {
   "cell_type": "code",
   "execution_count": 90,
   "id": "567c17fd",
   "metadata": {},
   "outputs": [
    {
     "data": {
      "text/plain": [
       "(4575, 250)"
      ]
     },
     "execution_count": 90,
     "metadata": {},
     "output_type": "execute_result"
    }
   ],
   "source": [
    "embedded_docs_test.shape"
   ]
  },
  {
   "cell_type": "code",
   "execution_count": 91,
   "id": "4b8267f7",
   "metadata": {},
   "outputs": [],
   "source": [
    "y_pred_dp_test_data =model1.predict_classes(embedded_docs_test)"
   ]
  },
  {
   "cell_type": "code",
   "execution_count": 92,
   "id": "fb16d100",
   "metadata": {},
   "outputs": [
    {
     "data": {
      "text/plain": [
       "array([[0],\n",
       "       [1],\n",
       "       [0],\n",
       "       ...,\n",
       "       [0],\n",
       "       [0],\n",
       "       [0]])"
      ]
     },
     "execution_count": 92,
     "metadata": {},
     "output_type": "execute_result"
    }
   ],
   "source": [
    "y_pred_dp_test_data"
   ]
  },
  {
   "cell_type": "code",
   "execution_count": 94,
   "id": "e0512afe",
   "metadata": {},
   "outputs": [],
   "source": [
    "data_final_file = pd.DataFrame(y_pred_dp_test_data,columns = ['predicted_test_data'])"
   ]
  },
  {
   "cell_type": "code",
   "execution_count": 95,
   "id": "65211d91",
   "metadata": {},
   "outputs": [
    {
     "data": {
      "text/html": [
       "<div>\n",
       "<style scoped>\n",
       "    .dataframe tbody tr th:only-of-type {\n",
       "        vertical-align: middle;\n",
       "    }\n",
       "\n",
       "    .dataframe tbody tr th {\n",
       "        vertical-align: top;\n",
       "    }\n",
       "\n",
       "    .dataframe thead th {\n",
       "        text-align: right;\n",
       "    }\n",
       "</style>\n",
       "<table border=\"1\" class=\"dataframe\">\n",
       "  <thead>\n",
       "    <tr style=\"text-align: right;\">\n",
       "      <th></th>\n",
       "      <th>predicted_test_data</th>\n",
       "    </tr>\n",
       "  </thead>\n",
       "  <tbody>\n",
       "    <tr>\n",
       "      <th>0</th>\n",
       "      <td>0</td>\n",
       "    </tr>\n",
       "    <tr>\n",
       "      <th>1</th>\n",
       "      <td>1</td>\n",
       "    </tr>\n",
       "    <tr>\n",
       "      <th>2</th>\n",
       "      <td>0</td>\n",
       "    </tr>\n",
       "    <tr>\n",
       "      <th>3</th>\n",
       "      <td>1</td>\n",
       "    </tr>\n",
       "    <tr>\n",
       "      <th>4</th>\n",
       "      <td>0</td>\n",
       "    </tr>\n",
       "    <tr>\n",
       "      <th>...</th>\n",
       "      <td>...</td>\n",
       "    </tr>\n",
       "    <tr>\n",
       "      <th>4570</th>\n",
       "      <td>0</td>\n",
       "    </tr>\n",
       "    <tr>\n",
       "      <th>4571</th>\n",
       "      <td>0</td>\n",
       "    </tr>\n",
       "    <tr>\n",
       "      <th>4572</th>\n",
       "      <td>0</td>\n",
       "    </tr>\n",
       "    <tr>\n",
       "      <th>4573</th>\n",
       "      <td>0</td>\n",
       "    </tr>\n",
       "    <tr>\n",
       "      <th>4574</th>\n",
       "      <td>0</td>\n",
       "    </tr>\n",
       "  </tbody>\n",
       "</table>\n",
       "<p>4575 rows × 1 columns</p>\n",
       "</div>"
      ],
      "text/plain": [
       "      predicted_test_data\n",
       "0                       0\n",
       "1                       1\n",
       "2                       0\n",
       "3                       1\n",
       "4                       0\n",
       "...                   ...\n",
       "4570                    0\n",
       "4571                    0\n",
       "4572                    0\n",
       "4573                    0\n",
       "4574                    0\n",
       "\n",
       "[4575 rows x 1 columns]"
      ]
     },
     "execution_count": 95,
     "metadata": {},
     "output_type": "execute_result"
    }
   ],
   "source": [
    "data_final_file"
   ]
  },
  {
   "cell_type": "code",
   "execution_count": 96,
   "id": "9d8c1965",
   "metadata": {},
   "outputs": [
    {
     "data": {
      "text/plain": [
       "predicted_test_data\n",
       "0                      2526\n",
       "1                      2049\n",
       "dtype: int64"
      ]
     },
     "execution_count": 96,
     "metadata": {},
     "output_type": "execute_result"
    }
   ],
   "source": [
    "data_final_file.value_counts()"
   ]
  },
  {
   "cell_type": "code",
   "execution_count": 100,
   "id": "2c5ce7fc",
   "metadata": {},
   "outputs": [
    {
     "data": {
      "text/plain": [
       "<AxesSubplot:ylabel='Count'>"
      ]
     },
     "execution_count": 100,
     "metadata": {},
     "output_type": "execute_result"
    },
    {
     "data": {
      "image/png": "[encoded data removed]",
      "text/plain": [
       "<Figure size 432x288 with 1 Axes>"
      ]
     },
     "metadata": {
      "needs_background": "light"
     },
     "output_type": "display_data"
    }
   ],
   "source": [
    "sns.histplot(data_final_file)"
   ]
  },
  {
   "cell_type": "code",
   "execution_count": 101,
   "id": "d9d0ec4d",
   "metadata": {},
   "outputs": [],
   "source": [
    "test_data_ip_op = pd.concat([data_test['text'],data_final_file],axis=1)"
   ]
  },
  {
   "cell_type": "code",
   "execution_count": 103,
   "id": "a6f4e4c4",
   "metadata": {},
   "outputs": [
    {
     "data": {
      "text/html": [
       "<div>\n",
       "<style scoped>\n",
       "    .dataframe tbody tr th:only-of-type {\n",
       "        vertical-align: middle;\n",
       "    }\n",
       "\n",
       "    .dataframe tbody tr th {\n",
       "        vertical-align: top;\n",
       "    }\n",
       "\n",
       "    .dataframe thead th {\n",
       "        text-align: right;\n",
       "    }\n",
       "</style>\n",
       "<table border=\"1\" class=\"dataframe\">\n",
       "  <thead>\n",
       "    <tr style=\"text-align: right;\">\n",
       "      <th></th>\n",
       "      <th>text</th>\n",
       "      <th>predicted_test_data</th>\n",
       "    </tr>\n",
       "  </thead>\n",
       "  <tbody>\n",
       "    <tr>\n",
       "      <th>0</th>\n",
       "      <td>PALO ALTO, Calif.  —   After years of scorning...</td>\n",
       "      <td>0</td>\n",
       "    </tr>\n",
       "    <tr>\n",
       "      <th>1</th>\n",
       "      <td>Videos #NoDAPL: Native American Leaders Vow to...</td>\n",
       "      <td>1</td>\n",
       "    </tr>\n",
       "    <tr>\n",
       "      <th>2</th>\n",
       "      <td>If at first you don’t succeed, try a different...</td>\n",
       "      <td>0</td>\n",
       "    </tr>\n",
       "    <tr>\n",
       "      <th>3</th>\n",
       "      <td>42 mins ago 1 Views 0 Comments 0 Likes 'For th...</td>\n",
       "      <td>1</td>\n",
       "    </tr>\n",
       "    <tr>\n",
       "      <th>4</th>\n",
       "      <td>Sunday on NBC’s “Meet the Press,” House Minori...</td>\n",
       "      <td>0</td>\n",
       "    </tr>\n",
       "    <tr>\n",
       "      <th>5</th>\n",
       "      <td>You are here: Home / *Articles of the Bound* /...</td>\n",
       "      <td>1</td>\n",
       "    </tr>\n",
       "    <tr>\n",
       "      <th>6</th>\n",
       "      <td>Have you seen that pro-Hillary TV ad of disgra...</td>\n",
       "      <td>1</td>\n",
       "    </tr>\n",
       "    <tr>\n",
       "      <th>7</th>\n",
       "      <td>Source: CNBC, article by Robert Ferris Arctic ...</td>\n",
       "      <td>1</td>\n",
       "    </tr>\n",
       "    <tr>\n",
       "      <th>8</th>\n",
       "      <td>Written by Shaun Bradley   Mandatory vaccinati...</td>\n",
       "      <td>1</td>\n",
       "    </tr>\n",
       "    <tr>\n",
       "      <th>9</th>\n",
       "      <td>Store Communists Terrorize Small Business The ...</td>\n",
       "      <td>1</td>\n",
       "    </tr>\n",
       "  </tbody>\n",
       "</table>\n",
       "</div>"
      ],
      "text/plain": [
       "                                                text  predicted_test_data\n",
       "0  PALO ALTO, Calif.  —   After years of scorning...                    0\n",
       "1  Videos #NoDAPL: Native American Leaders Vow to...                    1\n",
       "2  If at first you don’t succeed, try a different...                    0\n",
       "3  42 mins ago 1 Views 0 Comments 0 Likes 'For th...                    1\n",
       "4  Sunday on NBC’s “Meet the Press,” House Minori...                    0\n",
       "5  You are here: Home / *Articles of the Bound* /...                    1\n",
       "6  Have you seen that pro-Hillary TV ad of disgra...                    1\n",
       "7  Source: CNBC, article by Robert Ferris Arctic ...                    1\n",
       "8  Written by Shaun Bradley   Mandatory vaccinati...                    1\n",
       "9  Store Communists Terrorize Small Business The ...                    1"
      ]
     },
     "execution_count": 103,
     "metadata": {},
     "output_type": "execute_result"
    }
   ],
   "source": [
    "test_data_ip_op.head(10)"
   ]
  },
  {
   "cell_type": "code",
   "execution_count": null,
   "id": "bf212b73",
   "metadata": {},
   "outputs": [],
   "source": []
  }
 ],
 "metadata": {
  "kernelspec": {
   "display_name": "Python 3",
   "language": "python",
   "name": "python3"
  },
  "language_info": {
   "codemirror_mode": {
    "name": "ipython",
    "version": 3
   },
   "file_extension": ".py",
   "mimetype": "text/x-python",
   "name": "python",
   "nbconvert_exporter": "python",
   "pygments_lexer": "ipython3",
   "version": "3.9.5"
  }
 },
 "nbformat": 4,
 "nbformat_minor": 5
}
